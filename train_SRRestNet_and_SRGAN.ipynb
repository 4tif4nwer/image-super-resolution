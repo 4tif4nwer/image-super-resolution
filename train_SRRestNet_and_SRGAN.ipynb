{
 "cells": [
  {
   "cell_type": "markdown",
   "id": "cfdf2de0",
   "metadata": {},
   "source": [
    "**If training on colab, be sure to use a GPU (runtime > Change runtime type > GPU)**"
   ]
  },
  {
   "cell_type": "code",
   "execution_count": 1,
   "id": "3483926b",
   "metadata": {},
   "outputs": [],
   "source": [
    "# uncomment and run the lines below if running in google colab\n",
    "\n",
    "# !git clone https://github.com/jlaihong/image-super-resolution.git\n",
    "# !mv image-super-resolution/* ./"
   ]
  },
  {
   "cell_type": "markdown",
   "id": "26ab2bcb",
   "metadata": {},
   "source": [
    "# SRResNet and SRGAN Training for Image Super Resolution"
   ]
  },
  {
   "cell_type": "markdown",
   "id": "6e1597e6",
   "metadata": {},
   "source": [
    "An Implementation of SRGAN: https://arxiv.org/pdf/1609.04802.pdf"
   ]
  },
  {
   "cell_type": "code",
   "execution_count": 2,
   "id": "f8fc6ab2",
   "metadata": {},
   "outputs": [],
   "source": [
    "import os\n",
    "import time\n",
    "import tensorflow as tf\n",
    "from tensorflow.keras.optimizers import Adam\n",
    "from tensorflow.keras.optimizers.schedules import PiecewiseConstantDecay\n",
    "from tensorflow.keras.losses import MeanSquaredError, BinaryCrossentropy, MeanAbsoluteError\n",
    "from tensorflow.keras.applications.vgg19 import VGG19, preprocess_input\n",
    "from tensorflow.keras.models import Model\n",
    "from tensorflow.keras.metrics import Mean\n",
    "from PIL import Image\n",
    "\n",
    "from datasets.div2k.parameters import Div2kParameters \n",
    "from datasets.div2k.loader import create_training_and_validation_datasets\n",
    "from utils.dataset_mappings import random_crop, random_flip, random_rotate, random_lr_jpeg_noise\n",
    "from utils.metrics import psnr_metric\n",
    "from utils.config import config\n",
    "from utils.callbacks import SaveCustomCheckpoint\n",
    "from models.srresnet import build_srresnet\n",
    "from models.srgan import build_discriminator\n"
   ]
  },
  {
   "cell_type": "markdown",
   "id": "f1761209",
   "metadata": {},
   "source": [
    "## Prepare the dataset"
   ]
  },
  {
   "cell_type": "code",
   "execution_count": 3,
   "id": "9272c5f4",
   "metadata": {},
   "outputs": [],
   "source": [
    "dataset_key = \"bicubic_x4\"\n",
    "\n",
    "data_path = config.get(\"data_path\", \"\") \n",
    "\n",
    "div2k_folder = os.path.abspath(os.path.join(data_path, \"div2k\"))\n",
    "\n",
    "dataset_parameters = Div2kParameters(dataset_key, save_data_directory=div2k_folder)"
   ]
  },
  {
   "cell_type": "code",
   "execution_count": 4,
   "id": "639c8fa0",
   "metadata": {},
   "outputs": [],
   "source": [
    "hr_crop_size = 96"
   ]
  },
  {
   "cell_type": "code",
   "execution_count": 5,
   "id": "5d48fc71",
   "metadata": {},
   "outputs": [],
   "source": [
    "train_mappings = [\n",
    "    lambda lr, hr: random_crop(lr, hr, hr_crop_size=hr_crop_size, scale=dataset_parameters.scale), \n",
    "    random_flip, \n",
    "    random_rotate, \n",
    "    random_lr_jpeg_noise]"
   ]
  },
  {
   "cell_type": "code",
   "execution_count": 6,
   "id": "850ab510",
   "metadata": {},
   "outputs": [],
   "source": [
    "train_dataset, valid_dataset = create_training_and_validation_datasets(dataset_parameters, train_mappings)\n",
    "\n",
    "valid_dataset_subset = valid_dataset.take(10) # only taking 10 examples here to speed up evaluations during training"
   ]
  },
  {
   "cell_type": "markdown",
   "id": "894b92c5",
   "metadata": {},
   "source": [
    "## Train the SRResNet generator model"
   ]
  },
  {
   "cell_type": "code",
   "execution_count": 7,
   "id": "dc8149e5",
   "metadata": {},
   "outputs": [],
   "source": [
    "generator = build_srresnet(scale=dataset_parameters.scale)"
   ]
  },
  {
   "cell_type": "code",
   "execution_count": 8,
   "id": "7616b43f",
   "metadata": {},
   "outputs": [
    {
     "name": "stdout",
     "output_type": "stream",
     "text": [
      "Model restored from checkpoint at step 1070000 with validation PSNR 29.34426498413086.\n"
     ]
    }
   ],
   "source": [
    "checkpoint_dir=f'./ckpt/sr_resnet_{dataset_key}'\n",
    "\n",
    "learning_rate=1e-4\n",
    "\n",
    "checkpoint = tf.train.Checkpoint(step=tf.Variable(0),\n",
    "                                 epoch=tf.Variable(1000),\n",
    "                                 psnr=tf.Variable(0.0),\n",
    "                                 optimizer=Adam(learning_rate),\n",
    "                                 model=generator)\n",
    "\n",
    "checkpoint_manager = tf.train.CheckpointManager(checkpoint=checkpoint,\n",
    "                                                directory=checkpoint_dir,\n",
    "                                                max_to_keep=3)\n",
    "\n",
    "if checkpoint_manager.latest_checkpoint:\n",
    "    checkpoint.restore(checkpoint_manager.latest_checkpoint)\n",
    "    print(f'Model restored from checkpoint at step {checkpoint.step.numpy()} with validation PSNR {checkpoint.psnr.numpy()}.')"
   ]
  },
  {
   "cell_type": "code",
   "execution_count": 9,
   "id": "ab25138e",
   "metadata": {},
   "outputs": [
    {
     "name": "stdout",
     "output_type": "stream",
     "text": [
      "Training already completed. To continue training, increase the number of training steps\n"
     ]
    }
   ],
   "source": [
    "training_steps = 1_000_000\n",
    "\n",
    "steps_per_epoch = 1000\n",
    "\n",
    "training_epochs = training_steps / steps_per_epoch\n",
    "\n",
    "if checkpoint.epoch.numpy() < training_epochs:\n",
    "    remaining_epochs = int(training_epochs - checkpoint.epoch.numpy())\n",
    "    print(f\"Continuing Training from epoch {checkpoint.epoch.numpy()}. Remaining epochs: {remaining_epochs}.\")\n",
    "    save_checkpoint_callback = SaveCustomCheckpoint(checkpoint_manager, steps_per_epoch)\n",
    "    checkpoint.model.compile(optimizer=checkpoint.optimizer, loss=MeanSquaredError(), metrics=[psnr_metric])\n",
    "    checkpoint.model.fit(train_dataset,validation_data=valid_dataset_subset, steps_per_epoch=steps_per_epoch, epochs=remaining_epochs, callbacks=[save_checkpoint_callback])\n",
    "else:\n",
    "    print(\"Training already completed. To continue training, increase the number of training steps\")"
   ]
  },
  {
   "cell_type": "code",
   "execution_count": 10,
   "id": "a45d8231",
   "metadata": {},
   "outputs": [],
   "source": [
    "weights_directory = f\"weights/srresnet_{dataset_key}\"\n",
    "os.makedirs(weights_directory, exist_ok=True)\n",
    "weights_file = f'{weights_directory}/generator.h5'\n",
    "checkpoint.model.save_weights(weights_file)"
   ]
  },
  {
   "cell_type": "markdown",
   "id": "3603dc7a",
   "metadata": {},
   "source": [
    "## Train SRGAN using SRResNet as the generator"
   ]
  },
  {
   "cell_type": "code",
   "execution_count": 11,
   "id": "9aa5af5c",
   "metadata": {},
   "outputs": [],
   "source": [
    "generator = build_srresnet(scale=dataset_parameters.scale)\n",
    "generator.load_weights(weights_file)"
   ]
  },
  {
   "cell_type": "code",
   "execution_count": 12,
   "id": "c5d2c488",
   "metadata": {},
   "outputs": [],
   "source": [
    "discriminator = build_discriminator(hr_crop_size=hr_crop_size)"
   ]
  },
  {
   "cell_type": "code",
   "execution_count": 13,
   "id": "84efb60a",
   "metadata": {},
   "outputs": [],
   "source": [
    "layer_5_4 = 20\n",
    "vgg = VGG19(input_shape=(None, None, 3), include_top=False)\n",
    "perceptual_model = Model(vgg.input, vgg.layers[layer_5_4].output)"
   ]
  },
  {
   "cell_type": "code",
   "execution_count": 14,
   "id": "d9008cee",
   "metadata": {},
   "outputs": [],
   "source": [
    "binary_cross_entropy = BinaryCrossentropy()\n",
    "mean_squared_error = MeanSquaredError()"
   ]
  },
  {
   "cell_type": "code",
   "execution_count": 15,
   "id": "6cc3a144",
   "metadata": {},
   "outputs": [],
   "source": [
    "learning_rate=PiecewiseConstantDecay(boundaries=[100000], values=[1e-4, 1e-5])"
   ]
  },
  {
   "cell_type": "code",
   "execution_count": 16,
   "id": "8ba83996",
   "metadata": {},
   "outputs": [],
   "source": [
    "generator_optimizer = Adam(learning_rate=learning_rate)\n",
    "discriminator_optimizer = Adam(learning_rate=learning_rate)"
   ]
  },
  {
   "cell_type": "code",
   "execution_count": 17,
   "id": "b8ea9eac",
   "metadata": {},
   "outputs": [],
   "source": [
    "srgan_checkpoint_dir=f'./ckpt/srgan_{dataset_key}'\n",
    "\n",
    "srgan_checkpoint = tf.train.Checkpoint(step=tf.Variable(0),\n",
    "                                       psnr=tf.Variable(0.0),\n",
    "                                       generator_optimizer=Adam(learning_rate),\n",
    "                                       discriminator_optimizer=Adam(learning_rate),\n",
    "                                       generator=generator,\n",
    "                                       discriminator=discriminator)\n",
    "\n",
    "srgan_checkpoint_manager = tf.train.CheckpointManager(checkpoint=srgan_checkpoint,\n",
    "                                                directory=srgan_checkpoint_dir,\n",
    "                                                max_to_keep=3)"
   ]
  },
  {
   "cell_type": "code",
   "execution_count": 18,
   "id": "a113dae5",
   "metadata": {},
   "outputs": [],
   "source": [
    "if srgan_checkpoint_manager.latest_checkpoint:\n",
    "    srgan_checkpoint.restore(srgan_checkpoint_manager.latest_checkpoint)\n",
    "    print(f'Model restored from checkpoint at step {srgan_checkpoint.step.numpy()} with validation PSNR {srgan_checkpoint.psnr.numpy()}.')"
   ]
  },
  {
   "cell_type": "code",
   "execution_count": 19,
   "id": "6581ee27",
   "metadata": {},
   "outputs": [],
   "source": [
    "@tf.function\n",
    "def train_step(lr, hr):\n",
    "    with tf.GradientTape() as gen_tape, tf.GradientTape() as disc_tape:\n",
    "        lr = tf.cast(lr, tf.float32)\n",
    "        hr = tf.cast(hr, tf.float32)\n",
    "\n",
    "        sr = srgan_checkpoint.generator(lr, training=True)\n",
    "\n",
    "        hr_output = srgan_checkpoint.discriminator(hr, training=True)\n",
    "        sr_output = srgan_checkpoint.discriminator(sr, training=True)\n",
    "\n",
    "        con_loss = _content_loss(hr, sr)\n",
    "        gen_loss = _generator_loss(sr_output)\n",
    "        perc_loss = con_loss + 0.001 * gen_loss\n",
    "        disc_loss = _discriminator_loss(hr_output, sr_output)\n",
    "\n",
    "    gradients_of_generator = gen_tape.gradient(perc_loss, srgan_checkpoint.generator.trainable_variables)\n",
    "    gradients_of_discriminator = disc_tape.gradient(disc_loss, srgan_checkpoint.discriminator.trainable_variables)\n",
    "\n",
    "    generator_optimizer.apply_gradients(zip(gradients_of_generator, srgan_checkpoint.generator.trainable_variables))\n",
    "    discriminator_optimizer.apply_gradients(zip(gradients_of_discriminator, srgan_checkpoint.discriminator.trainable_variables))\n",
    "\n",
    "    return perc_loss, disc_loss\n",
    "\n",
    "@tf.function\n",
    "def _content_loss(hr, sr):\n",
    "    sr = preprocess_input(sr)\n",
    "    hr = preprocess_input(hr)\n",
    "    sr_features = perceptual_model(sr) / 12.75\n",
    "    hr_features = perceptual_model(hr) / 12.75\n",
    "    return mean_squared_error(hr_features, sr_features)\n",
    "\n",
    "def _generator_loss(sr_out):\n",
    "    return binary_cross_entropy(tf.ones_like(sr_out), sr_out)\n",
    "\n",
    "def _discriminator_loss(hr_out, sr_out):\n",
    "    hr_loss = binary_cross_entropy(tf.ones_like(hr_out), hr_out)\n",
    "    sr_loss = binary_cross_entropy(tf.zeros_like(sr_out), sr_out)\n",
    "    return hr_loss + sr_loss\n"
   ]
  },
  {
   "cell_type": "code",
   "execution_count": 20,
   "id": "50c41e85",
   "metadata": {
    "scrolled": false
   },
   "outputs": [
    {
     "name": "stdout",
     "output_type": "stream",
     "text": [
      "1000/200000, psnr = 23.80300521850586, perceptual loss = 0.1053, discriminator loss = 0.7734 (152.51s)\n",
      "2000/200000, psnr = 23.686092376708984, perceptual loss = 0.1030, discriminator loss = 0.6336 (133.33s)\n",
      "3000/200000, psnr = 25.074975967407227, perceptual loss = 0.1029, discriminator loss = 0.6970 (133.38s)\n",
      "4000/200000, psnr = 25.42875099182129, perceptual loss = 0.1037, discriminator loss = 0.5736 (134.43s)\n",
      "5000/200000, psnr = 25.240591049194336, perceptual loss = 0.1029, discriminator loss = 0.5127 (131.92s)\n",
      "6000/200000, psnr = 25.748098373413086, perceptual loss = 0.1026, discriminator loss = 0.5583 (133.79s)\n",
      "7000/200000, psnr = 25.838848114013672, perceptual loss = 0.1036, discriminator loss = 0.4651 (134.50s)\n",
      "8000/200000, psnr = 25.39761734008789, perceptual loss = 0.1038, discriminator loss = 0.4994 (134.24s)\n",
      "9000/200000, psnr = 25.865942001342773, perceptual loss = 0.1023, discriminator loss = 0.4854 (133.05s)\n",
      "10000/200000, psnr = 25.21648406982422, perceptual loss = 0.1027, discriminator loss = 0.4336 (133.54s)\n",
      "11000/200000, psnr = 26.109716415405273, perceptual loss = 0.1011, discriminator loss = 0.4356 (135.15s)\n",
      "12000/200000, psnr = 25.79522132873535, perceptual loss = 0.1032, discriminator loss = 0.3776 (135.47s)\n",
      "13000/200000, psnr = 25.81850242614746, perceptual loss = 0.1014, discriminator loss = 0.4303 (135.49s)\n",
      "14000/200000, psnr = 25.862417221069336, perceptual loss = 0.1027, discriminator loss = 0.3733 (135.26s)\n",
      "15000/200000, psnr = 25.966991424560547, perceptual loss = 0.1042, discriminator loss = 0.3677 (134.44s)\n",
      "16000/200000, psnr = 25.8110294342041, perceptual loss = 0.1029, discriminator loss = 0.3505 (134.54s)\n",
      "17000/200000, psnr = 25.88694190979004, perceptual loss = 0.1030, discriminator loss = 0.3155 (135.99s)\n",
      "18000/200000, psnr = 25.9866886138916, perceptual loss = 0.1023, discriminator loss = 0.3009 (134.47s)\n",
      "19000/200000, psnr = 26.209712982177734, perceptual loss = 0.1034, discriminator loss = 0.3005 (136.67s)\n",
      "20000/200000, psnr = 26.338260650634766, perceptual loss = 0.1049, discriminator loss = 0.2617 (134.04s)\n",
      "21000/200000, psnr = 25.943206787109375, perceptual loss = 0.1058, discriminator loss = 0.2331 (134.83s)\n",
      "22000/200000, psnr = 25.573205947875977, perceptual loss = 0.1030, discriminator loss = 0.2623 (134.87s)\n",
      "23000/200000, psnr = 25.235036849975586, perceptual loss = 0.1019, discriminator loss = 0.2339 (135.05s)\n",
      "24000/200000, psnr = 25.503803253173828, perceptual loss = 0.1028, discriminator loss = 0.2269 (134.16s)\n",
      "25000/200000, psnr = 25.051353454589844, perceptual loss = 0.1038, discriminator loss = 0.2089 (133.35s)\n",
      "26000/200000, psnr = 26.026947021484375, perceptual loss = 0.1033, discriminator loss = 0.2182 (133.90s)\n",
      "27000/200000, psnr = 25.812091827392578, perceptual loss = 0.1034, discriminator loss = 0.2297 (134.01s)\n",
      "28000/200000, psnr = 26.155887603759766, perceptual loss = 0.1045, discriminator loss = 0.2196 (134.30s)\n",
      "29000/200000, psnr = 25.514720916748047, perceptual loss = 0.1023, discriminator loss = 0.2387 (134.16s)\n",
      "30000/200000, psnr = 25.93377113342285, perceptual loss = 0.1038, discriminator loss = 0.2258 (134.87s)\n",
      "31000/200000, psnr = 26.08492660522461, perceptual loss = 0.1031, discriminator loss = 0.2330 (135.94s)\n",
      "32000/200000, psnr = 26.783733367919922, perceptual loss = 0.1025, discriminator loss = 0.1930 (135.18s)\n",
      "33000/200000, psnr = 25.554344177246094, perceptual loss = 0.1037, discriminator loss = 0.1815 (132.01s)\n",
      "34000/200000, psnr = 25.383310317993164, perceptual loss = 0.1023, discriminator loss = 0.2330 (131.95s)\n",
      "35000/200000, psnr = 25.904788970947266, perceptual loss = 0.1027, discriminator loss = 0.1908 (132.09s)\n",
      "36000/200000, psnr = 25.564844131469727, perceptual loss = 0.1018, discriminator loss = 0.2162 (143.72s)\n",
      "37000/200000, psnr = 25.919261932373047, perceptual loss = 0.1042, discriminator loss = 0.1814 (143.55s)\n",
      "38000/200000, psnr = 24.915233612060547, perceptual loss = 0.1029, discriminator loss = 0.1956 (143.84s)\n",
      "39000/200000, psnr = 25.198741912841797, perceptual loss = 0.1021, discriminator loss = 0.2061 (143.36s)\n",
      "40000/200000, psnr = 25.79886245727539, perceptual loss = 0.1018, discriminator loss = 0.2036 (144.13s)\n",
      "41000/200000, psnr = 25.477922439575195, perceptual loss = 0.1034, discriminator loss = 0.1606 (143.50s)\n",
      "42000/200000, psnr = 26.309589385986328, perceptual loss = 0.1040, discriminator loss = 0.1722 (143.52s)\n",
      "43000/200000, psnr = 25.502702713012695, perceptual loss = 0.1031, discriminator loss = 0.1643 (144.11s)\n",
      "44000/200000, psnr = 25.450979232788086, perceptual loss = 0.1015, discriminator loss = 0.1739 (143.72s)\n",
      "45000/200000, psnr = 25.604894638061523, perceptual loss = 0.1028, discriminator loss = 0.1824 (134.55s)\n",
      "46000/200000, psnr = 25.53800392150879, perceptual loss = 0.1028, discriminator loss = 0.1791 (136.28s)\n",
      "47000/200000, psnr = 26.493322372436523, perceptual loss = 0.1021, discriminator loss = 0.1737 (133.66s)\n",
      "48000/200000, psnr = 25.337411880493164, perceptual loss = 0.1034, discriminator loss = 0.1728 (134.14s)\n",
      "49000/200000, psnr = 25.72543716430664, perceptual loss = 0.1023, discriminator loss = 0.1448 (134.94s)\n",
      "50000/200000, psnr = 25.79270362854004, perceptual loss = 0.1030, discriminator loss = 0.1517 (133.47s)\n",
      "51000/200000, psnr = 25.85951805114746, perceptual loss = 0.1039, discriminator loss = 0.1573 (135.04s)\n",
      "52000/200000, psnr = 25.083141326904297, perceptual loss = 0.1033, discriminator loss = 0.1561 (134.10s)\n",
      "53000/200000, psnr = 25.6081485748291, perceptual loss = 0.1024, discriminator loss = 0.1652 (133.30s)\n",
      "54000/200000, psnr = 25.663732528686523, perceptual loss = 0.1029, discriminator loss = 0.1434 (133.08s)\n",
      "55000/200000, psnr = 25.26529884338379, perceptual loss = 0.1017, discriminator loss = 0.1681 (133.00s)\n",
      "56000/200000, psnr = 24.816556930541992, perceptual loss = 0.1016, discriminator loss = 0.1083 (133.08s)\n",
      "57000/200000, psnr = 26.35590171813965, perceptual loss = 0.1045, discriminator loss = 0.1426 (133.04s)\n",
      "58000/200000, psnr = 24.823843002319336, perceptual loss = 0.1022, discriminator loss = 0.1565 (132.71s)\n",
      "59000/200000, psnr = 25.872610092163086, perceptual loss = 0.1018, discriminator loss = 0.1392 (132.88s)\n",
      "60000/200000, psnr = 25.562232971191406, perceptual loss = 0.1020, discriminator loss = 0.1402 (131.46s)\n",
      "61000/200000, psnr = 25.725448608398438, perceptual loss = 0.1028, discriminator loss = 0.1533 (131.44s)\n",
      "62000/200000, psnr = 26.438671112060547, perceptual loss = 0.1015, discriminator loss = 0.1539 (131.63s)\n",
      "63000/200000, psnr = 25.57383918762207, perceptual loss = 0.1027, discriminator loss = 0.1134 (131.57s)\n",
      "64000/200000, psnr = 25.05232048034668, perceptual loss = 0.1032, discriminator loss = 0.1213 (131.48s)\n",
      "65000/200000, psnr = 26.223857879638672, perceptual loss = 0.1034, discriminator loss = 0.1475 (131.63s)\n",
      "66000/200000, psnr = 25.055404663085938, perceptual loss = 0.1040, discriminator loss = 0.1235 (131.63s)\n",
      "67000/200000, psnr = 25.44951629638672, perceptual loss = 0.1052, discriminator loss = 0.1310 (131.73s)\n",
      "68000/200000, psnr = 25.679607391357422, perceptual loss = 0.1008, discriminator loss = 0.1398 (131.78s)\n",
      "69000/200000, psnr = 25.58131980895996, perceptual loss = 0.1035, discriminator loss = 0.1153 (131.86s)\n",
      "70000/200000, psnr = 25.338420867919922, perceptual loss = 0.1039, discriminator loss = 0.1250 (131.75s)\n",
      "71000/200000, psnr = 26.202316284179688, perceptual loss = 0.1029, discriminator loss = 0.1166 (131.92s)\n",
      "72000/200000, psnr = 25.810516357421875, perceptual loss = 0.1034, discriminator loss = 0.1328 (131.77s)\n",
      "73000/200000, psnr = 25.13962745666504, perceptual loss = 0.1022, discriminator loss = 0.1319 (131.84s)\n",
      "74000/200000, psnr = 25.836971282958984, perceptual loss = 0.1027, discriminator loss = 0.1195 (131.72s)\n",
      "75000/200000, psnr = 25.64646339416504, perceptual loss = 0.1036, discriminator loss = 0.1182 (131.77s)\n",
      "76000/200000, psnr = 26.02235984802246, perceptual loss = 0.1027, discriminator loss = 0.1291 (131.61s)\n",
      "77000/200000, psnr = 26.09726333618164, perceptual loss = 0.1024, discriminator loss = 0.1206 (131.78s)\n",
      "78000/200000, psnr = 26.242420196533203, perceptual loss = 0.1021, discriminator loss = 0.1214 (131.87s)\n",
      "79000/200000, psnr = 26.0565128326416, perceptual loss = 0.1028, discriminator loss = 0.0869 (131.78s)\n"
     ]
    },
    {
     "name": "stdout",
     "output_type": "stream",
     "text": [
      "80000/200000, psnr = 25.88107681274414, perceptual loss = 0.1035, discriminator loss = 0.1097 (131.69s)\n",
      "81000/200000, psnr = 25.600244522094727, perceptual loss = 0.1015, discriminator loss = 0.1093 (131.75s)\n",
      "82000/200000, psnr = 25.377872467041016, perceptual loss = 0.1031, discriminator loss = 0.0931 (131.80s)\n",
      "83000/200000, psnr = 26.453821182250977, perceptual loss = 0.1015, discriminator loss = 0.1166 (131.66s)\n",
      "84000/200000, psnr = 26.305004119873047, perceptual loss = 0.1033, discriminator loss = 0.1328 (131.92s)\n",
      "85000/200000, psnr = 26.0504093170166, perceptual loss = 0.1038, discriminator loss = 0.1076 (131.83s)\n",
      "86000/200000, psnr = 25.2048282623291, perceptual loss = 0.1019, discriminator loss = 0.1232 (132.01s)\n",
      "87000/200000, psnr = 25.900400161743164, perceptual loss = 0.1026, discriminator loss = 0.1132 (131.86s)\n",
      "88000/200000, psnr = 24.932933807373047, perceptual loss = 0.1030, discriminator loss = 0.1061 (131.84s)\n",
      "89000/200000, psnr = 26.316905975341797, perceptual loss = 0.1031, discriminator loss = 0.1173 (131.92s)\n",
      "90000/200000, psnr = 25.153650283813477, perceptual loss = 0.1029, discriminator loss = 0.0902 (131.85s)\n",
      "91000/200000, psnr = 25.024272918701172, perceptual loss = 0.1025, discriminator loss = 0.0963 (131.89s)\n",
      "92000/200000, psnr = 25.849411010742188, perceptual loss = 0.1046, discriminator loss = 0.0871 (131.85s)\n",
      "93000/200000, psnr = 25.75345230102539, perceptual loss = 0.1026, discriminator loss = 0.1359 (131.87s)\n",
      "94000/200000, psnr = 26.6513671875, perceptual loss = 0.1034, discriminator loss = 0.1030 (131.94s)\n",
      "95000/200000, psnr = 26.240758895874023, perceptual loss = 0.1017, discriminator loss = 0.1067 (131.77s)\n",
      "96000/200000, psnr = 26.190906524658203, perceptual loss = 0.1038, discriminator loss = 0.1057 (131.92s)\n",
      "97000/200000, psnr = 26.271804809570312, perceptual loss = 0.1046, discriminator loss = 0.0862 (131.87s)\n",
      "98000/200000, psnr = 25.895137786865234, perceptual loss = 0.1041, discriminator loss = 0.0820 (131.83s)\n",
      "99000/200000, psnr = 25.753570556640625, perceptual loss = 0.1031, discriminator loss = 0.0925 (131.93s)\n",
      "100000/200000, psnr = 25.2161865234375, perceptual loss = 0.1026, discriminator loss = 0.0985 (131.91s)\n",
      "101000/200000, psnr = 25.6262264251709, perceptual loss = 0.1009, discriminator loss = 0.0496 (132.48s)\n",
      "102000/200000, psnr = 25.865856170654297, perceptual loss = 0.1014, discriminator loss = 0.0310 (132.47s)\n",
      "103000/200000, psnr = 25.802417755126953, perceptual loss = 0.1031, discriminator loss = 0.0335 (132.43s)\n",
      "104000/200000, psnr = 25.937978744506836, perceptual loss = 0.1020, discriminator loss = 0.0340 (132.47s)\n",
      "105000/200000, psnr = 25.482772827148438, perceptual loss = 0.1032, discriminator loss = 0.0306 (132.39s)\n",
      "106000/200000, psnr = 25.922515869140625, perceptual loss = 0.1043, discriminator loss = 0.0266 (132.37s)\n",
      "107000/200000, psnr = 26.264928817749023, perceptual loss = 0.1028, discriminator loss = 0.0424 (132.37s)\n",
      "108000/200000, psnr = 26.123470306396484, perceptual loss = 0.1033, discriminator loss = 0.0292 (136.67s)\n",
      "109000/200000, psnr = 26.25872802734375, perceptual loss = 0.1042, discriminator loss = 0.0408 (140.69s)\n",
      "110000/200000, psnr = 25.99734878540039, perceptual loss = 0.1042, discriminator loss = 0.0283 (140.53s)\n",
      "111000/200000, psnr = 25.9920597076416, perceptual loss = 0.1020, discriminator loss = 0.0286 (140.15s)\n",
      "112000/200000, psnr = 25.71767807006836, perceptual loss = 0.1044, discriminator loss = 0.0186 (140.36s)\n",
      "113000/200000, psnr = 26.103458404541016, perceptual loss = 0.1038, discriminator loss = 0.0399 (140.20s)\n",
      "114000/200000, psnr = 26.235485076904297, perceptual loss = 0.1035, discriminator loss = 0.0258 (140.54s)\n",
      "115000/200000, psnr = 26.271814346313477, perceptual loss = 0.1039, discriminator loss = 0.0187 (140.32s)\n",
      "116000/200000, psnr = 26.21074867248535, perceptual loss = 0.1062, discriminator loss = 0.0490 (137.21s)\n",
      "117000/200000, psnr = 26.296085357666016, perceptual loss = 0.1048, discriminator loss = 0.0179 (132.38s)\n",
      "118000/200000, psnr = 26.291467666625977, perceptual loss = 0.1038, discriminator loss = 0.0421 (132.39s)\n",
      "119000/200000, psnr = 26.21221351623535, perceptual loss = 0.1053, discriminator loss = 0.0269 (132.32s)\n",
      "120000/200000, psnr = 26.236623764038086, perceptual loss = 0.1034, discriminator loss = 0.0296 (132.28s)\n",
      "121000/200000, psnr = 26.516132354736328, perceptual loss = 0.1040, discriminator loss = 0.0262 (132.36s)\n",
      "122000/200000, psnr = 26.261966705322266, perceptual loss = 0.1038, discriminator loss = 0.0360 (132.25s)\n",
      "123000/200000, psnr = 26.259822845458984, perceptual loss = 0.1021, discriminator loss = 0.0258 (132.32s)\n",
      "124000/200000, psnr = 26.551565170288086, perceptual loss = 0.1028, discriminator loss = 0.0158 (132.41s)\n",
      "125000/200000, psnr = 26.38218116760254, perceptual loss = 0.1045, discriminator loss = 0.0281 (132.30s)\n",
      "126000/200000, psnr = 26.3817081451416, perceptual loss = 0.1033, discriminator loss = 0.0412 (132.32s)\n",
      "127000/200000, psnr = 26.232152938842773, perceptual loss = 0.1041, discriminator loss = 0.0353 (132.27s)\n",
      "128000/200000, psnr = 26.18545913696289, perceptual loss = 0.1043, discriminator loss = 0.0412 (132.25s)\n",
      "129000/200000, psnr = 26.48248863220215, perceptual loss = 0.1039, discriminator loss = 0.0347 (132.34s)\n",
      "130000/200000, psnr = 26.4107608795166, perceptual loss = 0.1042, discriminator loss = 0.0243 (132.31s)\n",
      "131000/200000, psnr = 26.467050552368164, perceptual loss = 0.1056, discriminator loss = 0.0286 (132.25s)\n",
      "132000/200000, psnr = 26.4800968170166, perceptual loss = 0.1061, discriminator loss = 0.0217 (132.37s)\n",
      "133000/200000, psnr = 26.34834861755371, perceptual loss = 0.1048, discriminator loss = 0.0340 (132.28s)\n",
      "134000/200000, psnr = 26.2196044921875, perceptual loss = 0.1045, discriminator loss = 0.0421 (132.31s)\n",
      "135000/200000, psnr = 26.600963592529297, perceptual loss = 0.1043, discriminator loss = 0.0258 (132.38s)\n",
      "136000/200000, psnr = 25.977270126342773, perceptual loss = 0.1042, discriminator loss = 0.0219 (132.39s)\n",
      "137000/200000, psnr = 26.417743682861328, perceptual loss = 0.1044, discriminator loss = 0.0353 (132.36s)\n",
      "138000/200000, psnr = 26.46150779724121, perceptual loss = 0.1029, discriminator loss = 0.0300 (132.39s)\n",
      "139000/200000, psnr = 26.473155975341797, perceptual loss = 0.1042, discriminator loss = 0.0534 (132.39s)\n",
      "140000/200000, psnr = 26.37436294555664, perceptual loss = 0.1045, discriminator loss = 0.0254 (132.31s)\n",
      "141000/200000, psnr = 26.400766372680664, perceptual loss = 0.1031, discriminator loss = 0.0461 (132.32s)\n",
      "142000/200000, psnr = 26.592117309570312, perceptual loss = 0.1046, discriminator loss = 0.0483 (132.33s)\n",
      "143000/200000, psnr = 26.50824546813965, perceptual loss = 0.1024, discriminator loss = 0.0290 (132.40s)\n",
      "144000/200000, psnr = 26.444477081298828, perceptual loss = 0.1034, discriminator loss = 0.0286 (132.40s)\n",
      "145000/200000, psnr = 25.881973266601562, perceptual loss = 0.1034, discriminator loss = 0.0369 (132.28s)\n",
      "146000/200000, psnr = 26.30635643005371, perceptual loss = 0.1024, discriminator loss = 0.0211 (132.29s)\n",
      "147000/200000, psnr = 26.220657348632812, perceptual loss = 0.1059, discriminator loss = 0.0444 (132.25s)\n",
      "148000/200000, psnr = 26.315921783447266, perceptual loss = 0.1031, discriminator loss = 0.0385 (132.26s)\n",
      "149000/200000, psnr = 26.288833618164062, perceptual loss = 0.1031, discriminator loss = 0.0550 (132.18s)\n",
      "150000/200000, psnr = 26.293874740600586, perceptual loss = 0.1039, discriminator loss = 0.0270 (132.24s)\n",
      "151000/200000, psnr = 26.125619888305664, perceptual loss = 0.1038, discriminator loss = 0.0298 (132.21s)\n",
      "152000/200000, psnr = 26.1495418548584, perceptual loss = 0.1049, discriminator loss = 0.0508 (132.16s)\n",
      "153000/200000, psnr = 25.862146377563477, perceptual loss = 0.1026, discriminator loss = 0.0195 (132.22s)\n",
      "154000/200000, psnr = 26.251611709594727, perceptual loss = 0.1038, discriminator loss = 0.0278 (132.25s)\n",
      "155000/200000, psnr = 26.267620086669922, perceptual loss = 0.1042, discriminator loss = 0.0234 (132.30s)\n",
      "156000/200000, psnr = 26.39418601989746, perceptual loss = 0.1036, discriminator loss = 0.0478 (132.22s)\n",
      "157000/200000, psnr = 26.30890464782715, perceptual loss = 0.1032, discriminator loss = 0.0265 (132.27s)\n"
     ]
    },
    {
     "name": "stdout",
     "output_type": "stream",
     "text": [
      "158000/200000, psnr = 26.373397827148438, perceptual loss = 0.1035, discriminator loss = 0.0420 (132.32s)\n",
      "159000/200000, psnr = 26.336856842041016, perceptual loss = 0.1053, discriminator loss = 0.0348 (132.34s)\n",
      "160000/200000, psnr = 26.575725555419922, perceptual loss = 0.1041, discriminator loss = 0.0495 (132.32s)\n",
      "161000/200000, psnr = 26.606481552124023, perceptual loss = 0.1023, discriminator loss = 0.0267 (132.30s)\n",
      "162000/200000, psnr = 26.4931583404541, perceptual loss = 0.1036, discriminator loss = 0.0355 (132.19s)\n",
      "163000/200000, psnr = 26.47711181640625, perceptual loss = 0.1056, discriminator loss = 0.0444 (132.17s)\n",
      "164000/200000, psnr = 26.2885684967041, perceptual loss = 0.1031, discriminator loss = 0.0237 (132.24s)\n",
      "165000/200000, psnr = 26.54998779296875, perceptual loss = 0.1035, discriminator loss = 0.0292 (132.30s)\n",
      "166000/200000, psnr = 26.326213836669922, perceptual loss = 0.1028, discriminator loss = 0.0418 (133.76s)\n",
      "167000/200000, psnr = 26.29799461364746, perceptual loss = 0.1026, discriminator loss = 0.0271 (138.57s)\n",
      "168000/200000, psnr = 26.321063995361328, perceptual loss = 0.1032, discriminator loss = 0.0320 (132.80s)\n",
      "169000/200000, psnr = 26.3073673248291, perceptual loss = 0.1026, discriminator loss = 0.0422 (132.46s)\n",
      "170000/200000, psnr = 26.481908798217773, perceptual loss = 0.1045, discriminator loss = 0.0354 (132.52s)\n",
      "171000/200000, psnr = 26.140567779541016, perceptual loss = 0.1023, discriminator loss = 0.0326 (132.26s)\n",
      "172000/200000, psnr = 26.282012939453125, perceptual loss = 0.1039, discriminator loss = 0.0348 (136.39s)\n",
      "173000/200000, psnr = 26.52864646911621, perceptual loss = 0.1020, discriminator loss = 0.0458 (141.25s)\n",
      "174000/200000, psnr = 26.502361297607422, perceptual loss = 0.1036, discriminator loss = 0.0253 (140.83s)\n",
      "175000/200000, psnr = 26.37160873413086, perceptual loss = 0.1059, discriminator loss = 0.0271 (134.33s)\n",
      "176000/200000, psnr = 26.617355346679688, perceptual loss = 0.1031, discriminator loss = 0.0282 (132.23s)\n",
      "177000/200000, psnr = 26.329051971435547, perceptual loss = 0.1024, discriminator loss = 0.0345 (132.24s)\n",
      "178000/200000, psnr = 26.6394100189209, perceptual loss = 0.1033, discriminator loss = 0.0286 (132.23s)\n",
      "179000/200000, psnr = 26.349925994873047, perceptual loss = 0.1050, discriminator loss = 0.0217 (132.21s)\n",
      "180000/200000, psnr = 26.377090454101562, perceptual loss = 0.1033, discriminator loss = 0.0454 (132.24s)\n",
      "181000/200000, psnr = 26.28769874572754, perceptual loss = 0.1048, discriminator loss = 0.0365 (132.16s)\n",
      "182000/200000, psnr = 26.54042625427246, perceptual loss = 0.1045, discriminator loss = 0.0222 (132.22s)\n",
      "183000/200000, psnr = 26.405399322509766, perceptual loss = 0.1039, discriminator loss = 0.0437 (132.34s)\n",
      "184000/200000, psnr = 26.45608901977539, perceptual loss = 0.1043, discriminator loss = 0.0376 (132.40s)\n",
      "185000/200000, psnr = 26.378799438476562, perceptual loss = 0.1026, discriminator loss = 0.0484 (132.28s)\n",
      "186000/200000, psnr = 26.379858016967773, perceptual loss = 0.1031, discriminator loss = 0.0333 (132.27s)\n",
      "187000/200000, psnr = 26.25221824645996, perceptual loss = 0.1025, discriminator loss = 0.0288 (132.33s)\n",
      "188000/200000, psnr = 26.41250991821289, perceptual loss = 0.1036, discriminator loss = 0.0428 (132.32s)\n",
      "189000/200000, psnr = 26.54961585998535, perceptual loss = 0.1034, discriminator loss = 0.0284 (132.31s)\n",
      "190000/200000, psnr = 26.246295928955078, perceptual loss = 0.1038, discriminator loss = 0.0259 (132.25s)\n",
      "191000/200000, psnr = 26.483963012695312, perceptual loss = 0.1021, discriminator loss = 0.0408 (132.38s)\n",
      "192000/200000, psnr = 26.32534408569336, perceptual loss = 0.1034, discriminator loss = 0.0435 (132.32s)\n",
      "193000/200000, psnr = 26.66005516052246, perceptual loss = 0.1018, discriminator loss = 0.0349 (132.35s)\n",
      "194000/200000, psnr = 26.643163681030273, perceptual loss = 0.1022, discriminator loss = 0.0393 (132.27s)\n",
      "195000/200000, psnr = 26.312362670898438, perceptual loss = 0.1046, discriminator loss = 0.0184 (132.25s)\n",
      "196000/200000, psnr = 26.508068084716797, perceptual loss = 0.1035, discriminator loss = 0.0341 (132.23s)\n",
      "197000/200000, psnr = 26.279834747314453, perceptual loss = 0.1039, discriminator loss = 0.0425 (132.27s)\n",
      "198000/200000, psnr = 26.507080078125, perceptual loss = 0.1039, discriminator loss = 0.0400 (132.25s)\n",
      "199000/200000, psnr = 26.41580581665039, perceptual loss = 0.1033, discriminator loss = 0.0357 (132.34s)\n",
      "200000/200000, psnr = 26.154327392578125, perceptual loss = 0.1049, discriminator loss = 0.0337 (132.31s)\n"
     ]
    }
   ],
   "source": [
    "perceptual_loss_metric = Mean()\n",
    "discriminator_loss_metric = Mean()\n",
    "\n",
    "step = srgan_checkpoint.step.numpy()\n",
    "steps = 200000\n",
    "\n",
    "monitor_folder = f\"monitor_training/srgan_{dataset_key}\"\n",
    "os.makedirs(monitor_folder, exist_ok=True)\n",
    "\n",
    "now = time.perf_counter()\n",
    "\n",
    "for lr, hr in train_dataset.take(steps - step):\n",
    "    srgan_checkpoint.step.assign_add(1)\n",
    "    step = srgan_checkpoint.step.numpy()\n",
    "\n",
    "    perceptual_loss, discriminator_loss = train_step(lr, hr)\n",
    "    perceptual_loss_metric(perceptual_loss)\n",
    "    discriminator_loss_metric(discriminator_loss)\n",
    "\n",
    "    if step % 1000 == 0:\n",
    "        psnr_values = []\n",
    "        \n",
    "        for lr, hr in valid_dataset_subset:\n",
    "            sr = srgan_checkpoint.generator.predict(lr)[0]\n",
    "            sr = tf.clip_by_value(sr, 0, 255)\n",
    "            sr = tf.round(sr)\n",
    "            sr = tf.cast(sr, tf.uint8)\n",
    "            \n",
    "            psnr_value = psnr_metric(hr, sr)[0]\n",
    "            psnr_values.append(psnr_value)\n",
    "            psnr = tf.reduce_mean(psnr_values)\n",
    "            \n",
    "        image = Image.fromarray(sr.numpy())\n",
    "        image.save(f\"{monitor_folder}/{step}.png\" )\n",
    "        \n",
    "        duration = time.perf_counter() - now\n",
    "        \n",
    "        now = time.perf_counter()\n",
    "        \n",
    "        print(f'{step}/{steps}, psnr = {psnr}, perceptual loss = {perceptual_loss_metric.result():.4f}, discriminator loss = {discriminator_loss_metric.result():.4f} ({duration:.2f}s)')\n",
    "        \n",
    "        perceptual_loss_metric.reset_states()\n",
    "        discriminator_loss_metric.reset_states()\n",
    "        \n",
    "        srgan_checkpoint.psnr.assign(psnr)\n",
    "        srgan_checkpoint_manager.save()"
   ]
  },
  {
   "cell_type": "code",
   "execution_count": 21,
   "id": "42dbb0cc",
   "metadata": {},
   "outputs": [],
   "source": [
    "weights_directory = f\"weights/srgan_{dataset_key}\"\n",
    "os.makedirs(weights_directory, exist_ok=True)\n",
    "weights_file = f'{weights_directory}/generator.h5'\n",
    "srgan_checkpoint.generator.save_weights(weights_file)"
   ]
  },
  {
   "cell_type": "code",
   "execution_count": null,
   "id": "1afc9d2e",
   "metadata": {},
   "outputs": [],
   "source": []
  }
 ],
 "metadata": {
  "kernelspec": {
   "display_name": "Python 3",
   "language": "python",
   "name": "python3"
  },
  "language_info": {
   "codemirror_mode": {
    "name": "ipython",
    "version": 3
   },
   "file_extension": ".py",
   "mimetype": "text/x-python",
   "name": "python",
   "nbconvert_exporter": "python",
   "pygments_lexer": "ipython3",
   "version": "3.6.8"
  }
 },
 "nbformat": 4,
 "nbformat_minor": 5
}
