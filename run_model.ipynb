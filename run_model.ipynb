{
 "cells": [
  {
   "cell_type": "code",
   "execution_count": null,
   "id": "19f8b8c2",
   "metadata": {},
   "outputs": [],
   "source": [
    "# uncomment and run the lines below if running in google colab\n",
    "\n",
    "# rm -rf image-super-resolution\n",
    "# !git clone https://github.com/jlaihong/image-super-resolution.git\n",
    "# !mv image-super-resolution/* ./"
   ]
  },
  {
   "cell_type": "code",
   "execution_count": null,
   "id": "ae41dea2",
   "metadata": {},
   "outputs": [],
   "source": [
    "import os\n",
    "import glob\n",
    "import numpy as np\n",
    "from PIL import Image\n",
    "import tensorflow as tf\n",
    "\n",
    "from datasets.div2k.parameters import Div2kParameters \n",
    "from models.srresnet import build_srresnet\n",
    "from models.pretrained import pretrained_models\n",
    "\n",
    "from utils.config import config"
   ]
  },
  {
   "cell_type": "code",
   "execution_count": null,
   "id": "5a403c94",
   "metadata": {},
   "outputs": [],
   "source": [
    "dataset_key = \"bicubic_x4\"\n",
    "\n",
    "data_path = config.get(\"data_path\", \"\") \n",
    "\n",
    "div2k_folder = os.path.abspath(os.path.join(data_path, \"div2k\"))\n",
    "\n",
    "dataset_parameters = Div2kParameters(dataset_key, save_data_directory=div2k_folder)"
   ]
  },
  {
   "cell_type": "code",
   "execution_count": null,
   "id": "634be5c4",
   "metadata": {},
   "outputs": [],
   "source": [
    "def load_image(path):\n",
    "    return np.array(Image.open(path))\n"
   ]
  },
  {
   "cell_type": "code",
   "execution_count": null,
   "id": "bdb23eb2",
   "metadata": {},
   "outputs": [],
   "source": [
    "# model_name = \"srresnet\"\n",
    "model_name = \"srgan\""
   ]
  },
  {
   "cell_type": "code",
   "execution_count": null,
   "id": "7db79690",
   "metadata": {},
   "outputs": [],
   "source": [
    "model_key = f\"{model_name}_{dataset_key}\""
   ]
  },
  {
   "cell_type": "code",
   "execution_count": null,
   "id": "fae14eab",
   "metadata": {},
   "outputs": [],
   "source": [
    "weights_directory = os.path.abspath(f\"weights/{model_key}\")\n",
    "\n",
    "file_path = os.path.join(weights_directory, \"generator.h5\")\n",
    "\n",
    "if not os.path.exists(file_path):\n",
    "    os.makedirs(weights_directory, exist_ok=True)\n",
    "    \n",
    "    print(\"Couldn't find file: \", file_path, \", attempting to download a pretrained model\")\n",
    "    \n",
    "    if model_key not in pretrained_models:\n",
    "        print(f\"Couldn't find pretrained model with key: {model_key}, available pretrained models: {pretrained_models.key()}\")\n",
    "    else:\n",
    "        download_url = pretrained_models[model_key]\n",
    "        file = file_path.split(\"/\")[-1]\n",
    "        tf.keras.utils.get_file(file, download_url, cache_subdir=weights_directory)"
   ]
  },
  {
   "cell_type": "code",
   "execution_count": null,
   "id": "d8df7347",
   "metadata": {},
   "outputs": [],
   "source": [
    "model = build_srresnet(scale=dataset_parameters.scale)\n",
    "\n",
    "os.makedirs(weights_directory, exist_ok=True)\n",
    "weights_file = f'{weights_directory}/generator.h5'\n",
    "\n",
    "model.load_weights(weights_file)"
   ]
  },
  {
   "cell_type": "code",
   "execution_count": null,
   "id": "a4e04265",
   "metadata": {},
   "outputs": [],
   "source": [
    "image_paths = glob.glob(\"examples/input_images/*\")"
   ]
  },
  {
   "cell_type": "code",
   "execution_count": null,
   "id": "2a513c0b",
   "metadata": {},
   "outputs": [],
   "source": [
    "results_path = f\"examples/{model_key}/\""
   ]
  },
  {
   "cell_type": "code",
   "execution_count": null,
   "id": "0015b827",
   "metadata": {},
   "outputs": [],
   "source": [
    "os.makedirs(results_path, exist_ok=True)"
   ]
  },
  {
   "cell_type": "code",
   "execution_count": null,
   "id": "114ebef6",
   "metadata": {},
   "outputs": [],
   "source": [
    "for image_path in image_paths:\n",
    "    print(image_path)\n",
    "    lr = load_image(image_path)\n",
    "\n",
    "    sr = model.predict(tf.expand_dims(lr, axis=0))[0]\n",
    "    sr = tf.clip_by_value(sr, 0, 255)\n",
    "    sr = tf.round(sr)\n",
    "    sr = tf.cast(sr, tf.uint8)\n",
    "    sr = Image.fromarray(sr.numpy())\n",
    "    \n",
    "    image_name = image_path.split(\"/\")[-1]\n",
    "    sr.save(f\"{results_path}{image_name}\" )"
   ]
  },
  {
   "cell_type": "code",
   "execution_count": null,
   "id": "d03a38c0",
   "metadata": {},
   "outputs": [],
   "source": [
    "Image.fromarray(lr)"
   ]
  },
  {
   "cell_type": "code",
   "execution_count": null,
   "id": "16b94486",
   "metadata": {},
   "outputs": [],
   "source": [
    "sr"
   ]
  }
 ],
 "metadata": {
  "kernelspec": {
   "display_name": "Python 3",
   "language": "python",
   "name": "python3"
  },
  "language_info": {
   "codemirror_mode": {
    "name": "ipython",
    "version": 3
   },
   "file_extension": ".py",
   "mimetype": "text/x-python",
   "name": "python",
   "nbconvert_exporter": "python",
   "pygments_lexer": "ipython3",
   "version": "3.6.8"
  }
 },
 "nbformat": 4,
 "nbformat_minor": 5
}
