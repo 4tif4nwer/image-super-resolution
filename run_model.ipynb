{
  "cells": [
    {
      "cell_type": "markdown",
      "metadata": {
        "id": "view-in-github",
        "colab_type": "text"
      },
      "source": [
        "<a href=\"https://colab.research.google.com/github/4tif4nwer/image-super-resolution/blob/main/run_model.ipynb\" target=\"_parent\"><img src=\"https://colab.research.google.com/assets/colab-badge.svg\" alt=\"Open In Colab\"/></a>"
      ]
    },
    {
      "cell_type": "code",
      "execution_count": 1,
      "id": "981c854c",
      "metadata": {
        "id": "981c854c",
        "outputId": "6512d28f-3678-4477-930a-065e9cef0cc2",
        "colab": {
          "base_uri": "https://localhost:8080/"
        }
      },
      "outputs": [
        {
          "output_type": "stream",
          "name": "stdout",
          "text": [
            "Cloning into 'image-super-resolution'...\n",
            "remote: Enumerating objects: 199, done.\u001b[K\n",
            "remote: Counting objects: 100% (199/199), done.\u001b[K\n",
            "remote: Compressing objects: 100% (145/145), done.\u001b[K\n",
            "remote: Total 199 (delta 88), reused 149 (delta 41), pack-reused 0\u001b[K\n",
            "Receiving objects: 100% (199/199), 108.60 MiB | 14.23 MiB/s, done.\n",
            "Resolving deltas: 100% (88/88), done.\n"
          ]
        }
      ],
      "source": [
        "# uncomment and run the lines below if running in google colab\n",
        "# !pip install tensorflow==2.4.3\n",
        "!git clone https://github.com/4tif4nwer/image-super-resolution.git\n",
        "!mv image-super-resolution/* ./"
      ]
    },
    {
      "cell_type": "code",
      "execution_count": 2,
      "id": "a3e7277a",
      "metadata": {
        "id": "a3e7277a"
      },
      "outputs": [],
      "source": [
        "import os\n",
        "import glob\n",
        "import numpy as np\n",
        "from PIL import Image, ImageOps\n",
        "import tensorflow as tf\n",
        "\n",
        "from datasets.div2k.parameters import Div2kParameters \n",
        "from models.srresnet import build_srresnet\n",
        "from models.pretrained import pretrained_models\n",
        "from utils.prediction import get_sr_image\n",
        "from utils.config import config"
      ]
    },
    {
      "cell_type": "code",
      "execution_count": 3,
      "id": "2fe72874",
      "metadata": {
        "id": "2fe72874"
      },
      "outputs": [],
      "source": [
        "dataset_key = \"realistic_difficult_x4\"\n",
        "\n",
        "data_path = config.get(\"data_path\", \"\") \n",
        "\n",
        "div2k_folder = os.path.abspath(os.path.join(data_path, \"div2k\"))\n",
        "\n",
        "dataset_parameters = Div2kParameters(dataset_key, save_data_directory=div2k_folder)"
      ]
    },
    {
      "cell_type": "code",
      "execution_count": 4,
      "id": "5a9b6c5b",
      "metadata": {
        "id": "5a9b6c5b"
      },
      "outputs": [],
      "source": [
        "def load_image(path):\n",
        "    img = Image.open(path)\n",
        "    \n",
        "    was_grayscale = len(img.getbands()) == 1\n",
        "    \n",
        "    if was_grayscale or len(img.getbands()) == 4:\n",
        "        img = img.convert('RGB')\n",
        "    \n",
        "    return was_grayscale, np.array(img)\n"
      ]
    },
    {
      "cell_type": "code",
      "execution_count": 5,
      "id": "53ddafc3",
      "metadata": {
        "id": "53ddafc3"
      },
      "outputs": [],
      "source": [
        "model_name = \"srresnet\"\n",
        "# model_name = \"srgan\""
      ]
    },
    {
      "cell_type": "code",
      "execution_count": 6,
      "id": "ee0187e4",
      "metadata": {
        "id": "ee0187e4"
      },
      "outputs": [],
      "source": [
        "model_key = f\"{model_name}_{dataset_key}\""
      ]
    },
    {
      "cell_type": "code",
      "execution_count": 7,
      "id": "d6dd2475",
      "metadata": {
        "id": "d6dd2475"
      },
      "outputs": [],
      "source": [
        "weights_directory = os.path.abspath(f\"weights/{model_key}\")\n",
        "\n",
        "file_path = os.path.join(weights_directory, \"generator.h5\")\n",
        "\n",
        "if not os.path.exists(file_path):\n",
        "    os.makedirs(weights_directory, exist_ok=True)\n",
        "    \n",
        "    print(\"Couldn't find file: \", file_path, \", attempting to download a pretrained model\")\n",
        "    \n",
        "    if model_key not in pretrained_models:\n",
        "        print(f\"Couldn't find pretrained model with key: {model_key}, available pretrained models: {pretrained_models.key()}\")\n",
        "    else:\n",
        "        download_url = pretrained_models[model_key]\n",
        "        file = file_path.split(\"/\")[-1]\n",
        "        tf.keras.utils.get_file(file, download_url, cache_subdir=weights_directory)"
      ]
    },
    {
      "cell_type": "code",
      "execution_count": 8,
      "id": "89375f5a",
      "metadata": {
        "id": "89375f5a",
        "outputId": "cdbdfbfa-2422-4cec-ef7f-05804a3a34ce",
        "colab": {
          "base_uri": "https://localhost:8080/"
        }
      },
      "outputs": [
        {
          "output_type": "stream",
          "name": "stdout",
          "text": [
            "187\n"
          ]
        }
      ],
      "source": [
        "model = build_srresnet(scale=dataset_parameters.scale)\n",
        "\n",
        "print(len(model.layers))\n",
        "\n"
      ]
    },
    {
      "cell_type": "code",
      "execution_count": 9,
      "id": "026a31ea",
      "metadata": {
        "id": "026a31ea"
      },
      "outputs": [],
      "source": [
        "os.makedirs(weights_directory, exist_ok=True)\n",
        "weights_file = f'{weights_directory}/generator.h5'\n",
        "\n",
        "model.load_weights(weights_file)"
      ]
    },
    {
      "cell_type": "code",
      "execution_count": 10,
      "id": "dfdf8743",
      "metadata": {
        "id": "dfdf8743"
      },
      "outputs": [],
      "source": [
        "results_path = f\"output/{model_key}/\""
      ]
    },
    {
      "cell_type": "code",
      "execution_count": 11,
      "id": "9fbfb611",
      "metadata": {
        "id": "9fbfb611"
      },
      "outputs": [],
      "source": [
        "os.makedirs(results_path, exist_ok=True)"
      ]
    },
    {
      "cell_type": "code",
      "execution_count": 12,
      "id": "fd8c0c42",
      "metadata": {
        "scrolled": false,
        "id": "fd8c0c42",
        "outputId": "5509d9c2-ff64-47ee-9150-6a0af127e9c1",
        "colab": {
          "base_uri": "https://localhost:8080/"
        }
      },
      "outputs": [
        {
          "output_type": "stream",
          "name": "stdout",
          "text": [
            "input/ok.png\n"
          ]
        }
      ],
      "source": [
        "image_paths = glob.glob(\"input/ok.png\")\n",
        "\n",
        "for image_path in image_paths:\n",
        "    print(image_path)\n",
        "    was_grayscale, lr = load_image(image_path)\n",
        "    \n",
        "    sr = get_sr_image(model, lr)\n",
        "        \n",
        "    if was_grayscale:\n",
        "        sr = ImageOps.grayscale(sr)\n",
        "    \n",
        "    image_name = image_path.split(\"/\")[-1]\n",
        "    sr.save(f\"{results_path}{image_name}\" )"
      ]
    },
    {
      "cell_type": "code",
      "execution_count": null,
      "id": "12f1b996",
      "metadata": {
        "id": "12f1b996",
        "outputId": "b4f077ba-80ca-4ae8-b553-9bbc7ff569d2"
      },
      "outputs": [
        {
          "name": "stderr",
          "output_type": "stream",
          "text": [
            "'zip' is not recognized as an internal or external command,\n",
            "operable program or batch file.\n"
          ]
        }
      ],
      "source": [
        "# zip files for download from colab\n",
        "\n",
        "!zip -r images.zip output"
      ]
    },
    {
      "cell_type": "code",
      "execution_count": null,
      "id": "bc24c18e",
      "metadata": {
        "id": "bc24c18e"
      },
      "outputs": [],
      "source": [
        ""
      ]
    }
  ],
  "metadata": {
    "kernelspec": {
      "display_name": "Python 3",
      "language": "python",
      "name": "python3"
    },
    "language_info": {
      "codemirror_mode": {
        "name": "ipython",
        "version": 3
      },
      "file_extension": ".py",
      "mimetype": "text/x-python",
      "name": "python",
      "nbconvert_exporter": "python",
      "pygments_lexer": "ipython3",
      "version": "3.8.8"
    },
    "colab": {
      "name": "run_model.ipynb",
      "provenance": [],
      "include_colab_link": true
    },
    "accelerator": "GPU"
  },
  "nbformat": 4,
  "nbformat_minor": 5
}